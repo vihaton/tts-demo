{
 "cells": [
  {
   "cell_type": "code",
   "execution_count": null,
   "metadata": {},
   "outputs": [],
   "source": [
    "from pathlib import Path\n",
    "from openai import OpenAI\n",
    "\n",
    "import os\n",
    "from dotenv import load_dotenv"
   ]
  },
  {
   "cell_type": "code",
   "execution_count": null,
   "metadata": {},
   "outputs": [],
   "source": [
    "load_dotenv(dotenv_path=\"secrets/.env\")\n",
    "\n",
    "openai_api_key = os.getenv(\"OPENAI_API_KEY\")\n",
    "client = OpenAI(api_key=openai_api_key)\n",
    "\n",
    "output_dir = \"outputs/\""
   ]
  },
  {
   "cell_type": "code",
   "execution_count": 9,
   "metadata": {},
   "outputs": [],
   "source": [
    "inputs = {\n",
    "    \"rakkaat_elaimet_fin\": \"Maailma ympärillämme muuttuu, mutta käsityksemme eläintuotannosta on jäänyt jumiin 1960-luvun maalaisromantiikkaan ja lapsuuden iltasatuihin. Ketkä vaikuttavat suomalaisten ruokailutottumuksiin ja päätökseen kuluttaa vuosi vuodelta enemmän lihaa?\\n\\\n",
    "    Rakkaat eläimet, joita syömme nostaa esille kiperiä kysymyksiä, joista ei haluta puhua ruokapöydässä. Kirjassa eläinlääkärit ja maatalousalan työntekijät paljastavat eläintilojen ja teurastamoiden laajamittaisia ongelmia, joista heitä on kielletty kertomasta. Silmiä avaavassa teoksessa vieraillaan paikoissa, joihin ei päästetä edes tutkijoita tai toimittajia.\\n\\\n",
    "    Tietokirjailijat Pavel Tahkovuori ja Benjamin Pitkänen etsivät Suomen johtavien asiantuntijoiden kanssa ratkaisuja ruoantuotannon vakavimpiin kriiseihin. Pala palalta kermaisen perunamuusin ja lihapullien takaa paljastuvat aikakautemme suurimmat haasteet: ilmaston lämpenemisen vuoksi kuivuvat pellot ja roihuavat metsäpalot, pandemiat ja kasvavat kansanterveysongelmat. Samaan aikaan yhä useammin ruoan äärellä herää kysymys: saako eläimiä syödä?\",\n",
    "}"
   ]
  },
  {
   "cell_type": "code",
   "execution_count": 10,
   "metadata": {},
   "outputs": [],
   "source": [
    "# https://neuralwriter.com/translate-tool/fi-en/\n",
    "# https://libretranslate.com/\n",
    "\n",
    "inputs_translated = {\n",
    "    \"neuralwriter\": \"The world around us is changing, but our idea of animal production is stuck in the rural romanticism of the 1960s and childhood bedtime stories. Who influences the eating habits of Finns and the decision to consume more meat every year?\\of\\ The beloved animals we eat raise thorny issues that people don't want to talk about at the dinner table. In the book, veterinarians and agricultural workers reveal widespread problems in animal farms and abattoirs that they are forbidden to tell about. The eye-opening piece features visitors to places where even scientists or journalists are not allowed in.\\of\\ Non-fiction writers Pavel Tahkovuori and Benjamin Pitkänen work with leading Finnish experts to find solutions to the most serious crises in food production. Piece by piece, behind the creamy mashed potatoes and meatballs, the greatest challenges of our era are revealed: fields drying up and wildfires burning because of global warming, pandemics and growing public health problems. At the same time, the question of eating more and more food is: are animals allowed to be eaten?\",\n",
    "    \"libretranslate\": \"The world around us is changing, but our perception of animal production is st. in the late 1960s rural romance and childhood stories. Who is responsible for eating more meat each year? Dear Anim. We Eat to Ask Questions We Don't Want to Talk About at a Table In the book, veterinarians and farm workers reveal large-scale problems in animal farms and sla.terhouses that they are prohibited from reporting. An eye-opening work visits places where no researchers or journalists are allowed. Pavel Tahkovuori and Benjamin Pitkänen, with leading experts in Finland, are looking for solutions to both crises in food production. The greatest challenges of our era are revealed by the creamy of potato music and meatballs: the nails that dry due to global warming, and the hanging wildfires, pandemics and growing public health problems. The question ises more and more: can animals eat?\"\n",
    "}\n",
    "\n"
   ]
  },
  {
   "cell_type": "code",
   "execution_count": 14,
   "metadata": {},
   "outputs": [],
   "source": [
    "translator = \"neuralwriter\"\n",
    "experiment = \"rakkaat_elaimet_en\"\n",
    "is_translation_experiment = True"
   ]
  },
  {
   "cell_type": "code",
   "execution_count": 15,
   "metadata": {},
   "outputs": [],
   "source": [
    "speech_file_path = output_dir + f\"{experiment}{'{}'}.mp3\"\n",
    "\n",
    "for i in range(2):\n",
    "    fp = speech_file_path.format(i + 1)\n",
    "\n",
    "    if not is_translation_experiment:\n",
    "        input = inputs[experiment]\n",
    "    else:\n",
    "        input = inputs_translated[translator]\n",
    "    with client.audio.speech.with_streaming_response.create(\n",
    "        model=\"tts-1\",\n",
    "        voice=\"alloy\",\n",
    "        input=input,\n",
    "    ) as response:\n",
    "        response.stream_to_file(fp)"
   ]
  },
  {
   "cell_type": "code",
   "execution_count": null,
   "metadata": {},
   "outputs": [],
   "source": []
  }
 ],
 "metadata": {
  "kernelspec": {
   "display_name": "tts-demo-Cx_Y284j-py3.10",
   "language": "python",
   "name": "python3"
  },
  "language_info": {
   "codemirror_mode": {
    "name": "ipython",
    "version": 3
   },
   "file_extension": ".py",
   "mimetype": "text/x-python",
   "name": "python",
   "nbconvert_exporter": "python",
   "pygments_lexer": "ipython3",
   "version": "3.10.12"
  }
 },
 "nbformat": 4,
 "nbformat_minor": 2
}
